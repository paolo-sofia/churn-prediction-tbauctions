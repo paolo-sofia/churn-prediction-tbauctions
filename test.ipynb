{
 "cells": [
  {
   "cell_type": "code",
   "execution_count": 1,
   "id": "initial_id",
   "metadata": {
    "collapsed": true,
    "ExecuteTime": {
     "end_time": "2024-03-06T21:10:47.289565723Z",
     "start_time": "2024-03-06T21:10:46.539383149Z"
    }
   },
   "outputs": [],
   "source": [
    "import polars as pl\n",
    "import pandas as pd"
   ]
  },
  {
   "cell_type": "code",
   "outputs": [
    {
     "data": {
      "text/plain": "shape: (5, 12)\n┌─────────────┬─────────────┬──────┬──────┬───┬─────────────┬─────────────┬─────────────┬──────────┐\n│ ID          ┆ start_date_ ┆ week ┆ year ┆ … ┆ total_bidde ┆ money_spend ┆ amount_lots ┆ platform │\n│ ---         ┆ of_week     ┆ ---  ┆ ---  ┆   ┆ d           ┆ ---         ┆ _won        ┆ ---      │\n│ i64         ┆ ---         ┆ u8   ┆ u16  ┆   ┆ ---         ┆ f32         ┆ ---         ┆ cat      │\n│             ┆ date        ┆      ┆      ┆   ┆ f32         ┆             ┆ f32         ┆          │\n╞═════════════╪═════════════╪══════╪══════╪═══╪═════════════╪═════════════╪═════════════╪══════════╡\n│ 17179873627 ┆ 2023-06-17  ┆ 25   ┆ 2023 ┆ … ┆ 0.0         ┆ 0.0         ┆ 0.0         ┆ TWK      │\n│ 24051816862 ┆ 2023-06-17  ┆ 25   ┆ 2023 ┆ … ┆ 0.0         ┆ 0.0         ┆ 0.0         ┆ TWK      │\n│ 7           ┆             ┆      ┆      ┆   ┆             ┆             ┆             ┆          │\n│ 25769803990 ┆ 2023-07-15  ┆ 28   ┆ 2023 ┆ … ┆ 0.0         ┆ 0.0         ┆ 0.0         ┆ TWK      │\n│ 2           ┆             ┆      ┆      ┆   ┆             ┆             ┆             ┆          │\n│ 24051818144 ┆ 2023-08-12  ┆ 33   ┆ 2023 ┆ … ┆ 0.0         ┆ 0.0         ┆ 0.0         ┆ TWK      │\n│ 1           ┆             ┆      ┆      ┆   ┆             ┆             ┆             ┆          │\n│ 60129544713 ┆ 2023-08-19  ┆ 34   ┆ 2023 ┆ … ┆ 0.0         ┆ 0.0         ┆ 0.0         ┆ TWK      │\n└─────────────┴─────────────┴──────┴──────┴───┴─────────────┴─────────────┴─────────────┴──────────┘",
      "text/html": "<div><style>\n.dataframe > thead > tr,\n.dataframe > tbody > tr {\n  text-align: right;\n  white-space: pre-wrap;\n}\n</style>\n<small>shape: (5, 12)</small><table border=\"1\" class=\"dataframe\"><thead><tr><th>ID</th><th>start_date_of_week</th><th>week</th><th>year</th><th>unique_lots_viewed</th><th>amount_views</th><th>bidded_on_amount_lots</th><th>bids_places</th><th>total_bidded</th><th>money_spend</th><th>amount_lots_won</th><th>platform</th></tr><tr><td>i64</td><td>date</td><td>u8</td><td>u16</td><td>i32</td><td>i32</td><td>i32</td><td>i32</td><td>f32</td><td>f32</td><td>f32</td><td>cat</td></tr></thead><tbody><tr><td>17179873627</td><td>2023-06-17</td><td>25</td><td>2023</td><td>34</td><td>39</td><td>0</td><td>0</td><td>0.0</td><td>0.0</td><td>0.0</td><td>&quot;TWK&quot;</td></tr><tr><td>240518168627</td><td>2023-06-17</td><td>25</td><td>2023</td><td>24</td><td>26</td><td>0</td><td>0</td><td>0.0</td><td>0.0</td><td>0.0</td><td>&quot;TWK&quot;</td></tr><tr><td>257698039902</td><td>2023-07-15</td><td>28</td><td>2023</td><td>2</td><td>4</td><td>0</td><td>0</td><td>0.0</td><td>0.0</td><td>0.0</td><td>&quot;TWK&quot;</td></tr><tr><td>240518181441</td><td>2023-08-12</td><td>33</td><td>2023</td><td>1</td><td>2</td><td>0</td><td>0</td><td>0.0</td><td>0.0</td><td>0.0</td><td>&quot;TWK&quot;</td></tr><tr><td>60129544713</td><td>2023-08-19</td><td>34</td><td>2023</td><td>13</td><td>13</td><td>0</td><td>0</td><td>0.0</td><td>0.0</td><td>0.0</td><td>&quot;TWK&quot;</td></tr></tbody></table></div>"
     },
     "execution_count": 2,
     "metadata": {},
     "output_type": "execute_result"
    }
   ],
   "source": [
    "data: pl.LazyFrame = pl.scan_csv(\"/home/paolo/git/churn-prediction-tbauctions/user_activities.csv\",\n",
    "                                 schema={\n",
    "                                     \"ID\": pl.Int64,\n",
    "                                     \"week\": pl.UInt8,\n",
    "                                     \"year\": pl.UInt16,\n",
    "                                     \"start_date_of_week\": pl.Date,\n",
    "                                     \"unique_lots_viewed\": pl.Int32,\n",
    "                                     \"amount_views\": pl.Int32,\n",
    "                                     \"bidded_on_amount_lots\": pl.Int32,\n",
    "                                     \"bids_places\": pl.Int32,\n",
    "                                     \"total_bidded\": pl.Float32,\n",
    "                                     \"money_spend\": pl.Float32,\n",
    "                                     \"amount_lots_won\": pl.Float32,\n",
    "                                     \"platform\": pl.Categorical\n",
    "                                 })\n",
    "\n",
    "data.head().collect()"
   ],
   "metadata": {
    "collapsed": false,
    "ExecuteTime": {
     "end_time": "2024-03-06T21:10:47.327974102Z",
     "start_time": "2024-03-06T21:10:47.299785343Z"
    }
   },
   "id": "1b724e386e32d99d",
   "execution_count": 2
  },
  {
   "cell_type": "code",
   "outputs": [
    {
     "data": {
      "text/plain": "(4010637, 12)"
     },
     "execution_count": 3,
     "metadata": {},
     "output_type": "execute_result"
    }
   ],
   "source": [
    "data.collect().shape"
   ],
   "metadata": {
    "collapsed": false,
    "ExecuteTime": {
     "end_time": "2024-03-06T21:10:47.981137996Z",
     "start_time": "2024-03-06T21:10:47.324620035Z"
    }
   },
   "id": "3a9e6cbd5efdba2f",
   "execution_count": 3
  },
  {
   "cell_type": "code",
   "outputs": [
    {
     "data": {
      "text/plain": "(4010637, 17)"
     },
     "execution_count": 4,
     "metadata": {},
     "output_type": "execute_result"
    }
   ],
   "source": [
    "data.join(\n",
    "    pl.scan_csv(\"/home/paolo/git/churn-prediction-tbauctions/user_attributes.csv\"),\n",
    "    on=\"ID\",\n",
    "    how=\"left\"\n",
    ").collect().shape"
   ],
   "metadata": {
    "collapsed": false,
    "ExecuteTime": {
     "end_time": "2024-03-06T21:10:49.201766215Z",
     "start_time": "2024-03-06T21:10:47.981752797Z"
    }
   },
   "id": "6721682c4256a70c",
   "execution_count": 4
  },
  {
   "cell_type": "code",
   "outputs": [
    {
     "data": {
      "text/plain": "shape: (3_534_680, 12)\n┌─────────────┬─────────────┬──────┬──────┬───┬─────────────┬─────────────┬─────────────┬──────────┐\n│ ID          ┆ start_date_ ┆ week ┆ year ┆ … ┆ total_bidde ┆ money_spend ┆ amount_lots ┆ platform │\n│ ---         ┆ of_week     ┆ ---  ┆ ---  ┆   ┆ d           ┆ ---         ┆ _won        ┆ ---      │\n│ i64         ┆ ---         ┆ u8   ┆ u16  ┆   ┆ ---         ┆ f32         ┆ ---         ┆ cat      │\n│             ┆ date        ┆      ┆      ┆   ┆ f32         ┆             ┆ f32         ┆          │\n╞═════════════╪═════════════╪══════╪══════╪═══╪═════════════╪═════════════╪═════════════╪══════════╡\n│ 1           ┆ 2023-01-21  ┆ 4    ┆ 2023 ┆ … ┆ 0.0         ┆ 0.0         ┆ 0.0         ┆ TWK      │\n│ 1           ┆ 2023-02-04  ┆ 5    ┆ 2023 ┆ … ┆ 0.0         ┆ 0.0         ┆ 0.0         ┆ TWK      │\n│ 1           ┆ 2023-02-11  ┆ 6    ┆ 2023 ┆ … ┆ 0.0         ┆ 0.0         ┆ 0.0         ┆ TWK      │\n│ 1           ┆ 2023-02-25  ┆ 8    ┆ 2023 ┆ … ┆ 0.0         ┆ 0.0         ┆ 0.0         ┆ TWK      │\n│ 1           ┆ 2023-03-18  ┆ 12   ┆ 2023 ┆ … ┆ 0.0         ┆ 0.0         ┆ 0.0         ┆ TWK      │\n│ …           ┆ …           ┆ …    ┆ …    ┆ … ┆ …           ┆ …           ┆ …           ┆ …        │\n│ 27487793414 ┆ 2023-06-03  ┆ 22   ┆ 2023 ┆ … ┆ 0.0         ┆ 0.0         ┆ 0.0         ┆ TWK      │\n│ 0           ┆             ┆      ┆      ┆   ┆             ┆             ┆             ┆          │\n│ 27487793414 ┆ 2023-06-03  ┆ 23   ┆ 2023 ┆ … ┆ 0.0         ┆ 0.0         ┆ 0.0         ┆ TWK      │\n│ 1           ┆             ┆      ┆      ┆   ┆             ┆             ┆             ┆          │\n│ 27487793414 ┆ 2023-05-27  ┆ 21   ┆ 2023 ┆ … ┆ 0.0         ┆ 0.0         ┆ 0.0         ┆ TWK      │\n│ 2           ┆             ┆      ┆      ┆   ┆             ┆             ┆             ┆          │\n│ 27487793414 ┆ 2023-05-13  ┆ 20   ┆ 2023 ┆ … ┆ 0.0         ┆ 0.0         ┆ 0.0         ┆ TWK      │\n│ 3           ┆             ┆      ┆      ┆   ┆             ┆             ┆             ┆          │\n│ 27487793414 ┆ 2023-04-29  ┆ 18   ┆ 2023 ┆ … ┆ 0.0         ┆ 0.0         ┆ 0.0         ┆ TWK      │\n│ 4           ┆             ┆      ┆      ┆   ┆             ┆             ┆             ┆          │\n└─────────────┴─────────────┴──────┴──────┴───┴─────────────┴─────────────┴─────────────┴──────────┘",
      "text/html": "<div><style>\n.dataframe > thead > tr,\n.dataframe > tbody > tr {\n  text-align: right;\n  white-space: pre-wrap;\n}\n</style>\n<small>shape: (3_534_680, 12)</small><table border=\"1\" class=\"dataframe\"><thead><tr><th>ID</th><th>start_date_of_week</th><th>week</th><th>year</th><th>unique_lots_viewed</th><th>amount_views</th><th>bidded_on_amount_lots</th><th>bids_places</th><th>total_bidded</th><th>money_spend</th><th>amount_lots_won</th><th>platform</th></tr><tr><td>i64</td><td>date</td><td>u8</td><td>u16</td><td>i32</td><td>i32</td><td>i32</td><td>i32</td><td>f32</td><td>f32</td><td>f32</td><td>cat</td></tr></thead><tbody><tr><td>1</td><td>2023-01-21</td><td>4</td><td>2023</td><td>9</td><td>20</td><td>0</td><td>0</td><td>0.0</td><td>0.0</td><td>0.0</td><td>&quot;TWK&quot;</td></tr><tr><td>1</td><td>2023-02-04</td><td>5</td><td>2023</td><td>26</td><td>29</td><td>0</td><td>0</td><td>0.0</td><td>0.0</td><td>0.0</td><td>&quot;TWK&quot;</td></tr><tr><td>1</td><td>2023-02-11</td><td>6</td><td>2023</td><td>22</td><td>31</td><td>0</td><td>0</td><td>0.0</td><td>0.0</td><td>0.0</td><td>&quot;TWK&quot;</td></tr><tr><td>1</td><td>2023-02-25</td><td>8</td><td>2023</td><td>2</td><td>3</td><td>0</td><td>0</td><td>0.0</td><td>0.0</td><td>0.0</td><td>&quot;TWK&quot;</td></tr><tr><td>1</td><td>2023-03-18</td><td>12</td><td>2023</td><td>21</td><td>25</td><td>0</td><td>0</td><td>0.0</td><td>0.0</td><td>0.0</td><td>&quot;TWK&quot;</td></tr><tr><td>&hellip;</td><td>&hellip;</td><td>&hellip;</td><td>&hellip;</td><td>&hellip;</td><td>&hellip;</td><td>&hellip;</td><td>&hellip;</td><td>&hellip;</td><td>&hellip;</td><td>&hellip;</td><td>&hellip;</td></tr><tr><td>274877934140</td><td>2023-06-03</td><td>22</td><td>2023</td><td>31</td><td>49</td><td>0</td><td>0</td><td>0.0</td><td>0.0</td><td>0.0</td><td>&quot;TWK&quot;</td></tr><tr><td>274877934141</td><td>2023-06-03</td><td>23</td><td>2023</td><td>1</td><td>2</td><td>0</td><td>0</td><td>0.0</td><td>0.0</td><td>0.0</td><td>&quot;TWK&quot;</td></tr><tr><td>274877934142</td><td>2023-05-27</td><td>21</td><td>2023</td><td>1</td><td>3</td><td>0</td><td>0</td><td>0.0</td><td>0.0</td><td>0.0</td><td>&quot;TWK&quot;</td></tr><tr><td>274877934143</td><td>2023-05-13</td><td>20</td><td>2023</td><td>8</td><td>13</td><td>0</td><td>0</td><td>0.0</td><td>0.0</td><td>0.0</td><td>&quot;TWK&quot;</td></tr><tr><td>274877934144</td><td>2023-04-29</td><td>18</td><td>2023</td><td>7</td><td>8</td><td>0</td><td>0</td><td>0.0</td><td>0.0</td><td>0.0</td><td>&quot;TWK&quot;</td></tr></tbody></table></div>"
     },
     "execution_count": 5,
     "metadata": {},
     "output_type": "execute_result"
    }
   ],
   "source": [
    "data.unique(subset=[\"ID\", \"start_date_of_week\"], keep=\"first\").sort([\"ID\", \"start_date_of_week\"]).collect()"
   ],
   "metadata": {
    "collapsed": false,
    "ExecuteTime": {
     "end_time": "2024-03-06T21:10:50.807311338Z",
     "start_time": "2024-03-06T21:10:49.214052121Z"
    }
   },
   "id": "eddef9eee0c37320",
   "execution_count": 5
  },
  {
   "cell_type": "code",
   "outputs": [
    {
     "data": {
      "text/plain": "(475957, 12)"
     },
     "execution_count": 6,
     "metadata": {},
     "output_type": "execute_result"
    }
   ],
   "source": [
    "duplicated: pl.LazyFrame = data.filter(pl.struct([\"ID\", \"start_date_of_week\"]).is_duplicated()).sort([\"ID\", \"start_date_of_week\"])\n",
    "\n",
    "non_duplicated: pl.LazyFrame = data.unique(subset=[\"ID\", \"start_date_of_week\"], keep=\"first\")\n",
    "\n",
    "duplicated = duplicated.join(\n",
    "    non_duplicated,\n",
    "    on=[\"ID\", \"start_date_of_week\", \"week\"],\n",
    "    how=\"anti\"\n",
    ").with_columns(pl.col(\"start_date_of_week\") + pl.duration(days=7)).sort(\"ID\", \"start_date_of_week\", \"week\")\n",
    "\n",
    "duplicated.collect().shape"
   ],
   "metadata": {
    "collapsed": false,
    "ExecuteTime": {
     "end_time": "2024-03-06T21:10:52.718463251Z",
     "start_time": "2024-03-06T21:10:50.810904258Z"
    }
   },
   "id": "d1f94c5ba1fd4185",
   "execution_count": 6
  },
  {
   "cell_type": "code",
   "outputs": [
    {
     "data": {
      "text/plain": "(4010637, 12)"
     },
     "execution_count": 7,
     "metadata": {},
     "output_type": "execute_result"
    }
   ],
   "source": [
    "data: pl.LazyFrame = pl.concat([duplicated, non_duplicated])\n",
    "data.collect().shape"
   ],
   "metadata": {
    "collapsed": false,
    "ExecuteTime": {
     "end_time": "2024-03-06T21:10:54.274497948Z",
     "start_time": "2024-03-06T21:10:52.721881571Z"
    }
   },
   "id": "e6ea5013faf576ec",
   "execution_count": 7
  },
  {
   "cell_type": "code",
   "outputs": [],
   "source": [
    "del duplicated, non_duplicated"
   ],
   "metadata": {
    "collapsed": false,
    "ExecuteTime": {
     "end_time": "2024-03-06T21:10:54.275277432Z",
     "start_time": "2024-03-06T21:10:54.271265612Z"
    }
   },
   "id": "e62520b5c97cce40",
   "execution_count": 8
  },
  {
   "cell_type": "code",
   "outputs": [
    {
     "data": {
      "text/plain": "shape: (4_010_637, 12)\n┌─────────────┬─────────────┬──────┬──────┬───┬─────────────┬─────────────┬─────────────┬──────────┐\n│ ID          ┆ start_date_ ┆ week ┆ year ┆ … ┆ total_bidde ┆ money_spend ┆ amount_lots ┆ platform │\n│ ---         ┆ of_week     ┆ ---  ┆ ---  ┆   ┆ d           ┆ ---         ┆ _won        ┆ ---      │\n│ i64         ┆ ---         ┆ u8   ┆ u16  ┆   ┆ ---         ┆ f32         ┆ ---         ┆ cat      │\n│             ┆ date        ┆      ┆      ┆   ┆ f32         ┆             ┆ f32         ┆          │\n╞═════════════╪═════════════╪══════╪══════╪═══╪═════════════╪═════════════╪═════════════╪══════════╡\n│ 1           ┆ 2023-01-21  ┆ 4    ┆ 2023 ┆ … ┆ 0.0         ┆ 0.0         ┆ 0.0         ┆ TWK      │\n│ 1           ┆ 2023-02-04  ┆ 5    ┆ 2023 ┆ … ┆ 0.0         ┆ 0.0         ┆ 0.0         ┆ TWK      │\n│ 1           ┆ 2023-02-11  ┆ 6    ┆ 2023 ┆ … ┆ 0.0         ┆ 0.0         ┆ 0.0         ┆ TWK      │\n│ 1           ┆ 2023-02-25  ┆ 8    ┆ 2023 ┆ … ┆ 0.0         ┆ 0.0         ┆ 0.0         ┆ TWK      │\n│ 1           ┆ 2023-03-04  ┆ 9    ┆ 2023 ┆ … ┆ 0.0         ┆ 0.0         ┆ 0.0         ┆ TWK      │\n│ …           ┆ …           ┆ …    ┆ …    ┆ … ┆ …           ┆ …           ┆ …           ┆ …        │\n│ 27487793414 ┆ 2023-06-03  ┆ 22   ┆ 2023 ┆ … ┆ 0.0         ┆ 0.0         ┆ 0.0         ┆ TWK      │\n│ 0           ┆             ┆      ┆      ┆   ┆             ┆             ┆             ┆          │\n│ 27487793414 ┆ 2023-06-03  ┆ 23   ┆ 2023 ┆ … ┆ 0.0         ┆ 0.0         ┆ 0.0         ┆ TWK      │\n│ 1           ┆             ┆      ┆      ┆   ┆             ┆             ┆             ┆          │\n│ 27487793414 ┆ 2023-05-27  ┆ 21   ┆ 2023 ┆ … ┆ 0.0         ┆ 0.0         ┆ 0.0         ┆ TWK      │\n│ 2           ┆             ┆      ┆      ┆   ┆             ┆             ┆             ┆          │\n│ 27487793414 ┆ 2023-05-13  ┆ 20   ┆ 2023 ┆ … ┆ 0.0         ┆ 0.0         ┆ 0.0         ┆ TWK      │\n│ 3           ┆             ┆      ┆      ┆   ┆             ┆             ┆             ┆          │\n│ 27487793414 ┆ 2023-04-29  ┆ 18   ┆ 2023 ┆ … ┆ 0.0         ┆ 0.0         ┆ 0.0         ┆ TWK      │\n│ 4           ┆             ┆      ┆      ┆   ┆             ┆             ┆             ┆          │\n└─────────────┴─────────────┴──────┴──────┴───┴─────────────┴─────────────┴─────────────┴──────────┘",
      "text/html": "<div><style>\n.dataframe > thead > tr,\n.dataframe > tbody > tr {\n  text-align: right;\n  white-space: pre-wrap;\n}\n</style>\n<small>shape: (4_010_637, 12)</small><table border=\"1\" class=\"dataframe\"><thead><tr><th>ID</th><th>start_date_of_week</th><th>week</th><th>year</th><th>unique_lots_viewed</th><th>amount_views</th><th>bidded_on_amount_lots</th><th>bids_places</th><th>total_bidded</th><th>money_spend</th><th>amount_lots_won</th><th>platform</th></tr><tr><td>i64</td><td>date</td><td>u8</td><td>u16</td><td>i32</td><td>i32</td><td>i32</td><td>i32</td><td>f32</td><td>f32</td><td>f32</td><td>cat</td></tr></thead><tbody><tr><td>1</td><td>2023-01-21</td><td>4</td><td>2023</td><td>9</td><td>20</td><td>0</td><td>0</td><td>0.0</td><td>0.0</td><td>0.0</td><td>&quot;TWK&quot;</td></tr><tr><td>1</td><td>2023-02-04</td><td>5</td><td>2023</td><td>26</td><td>29</td><td>0</td><td>0</td><td>0.0</td><td>0.0</td><td>0.0</td><td>&quot;TWK&quot;</td></tr><tr><td>1</td><td>2023-02-11</td><td>6</td><td>2023</td><td>22</td><td>31</td><td>0</td><td>0</td><td>0.0</td><td>0.0</td><td>0.0</td><td>&quot;TWK&quot;</td></tr><tr><td>1</td><td>2023-02-25</td><td>8</td><td>2023</td><td>2</td><td>3</td><td>0</td><td>0</td><td>0.0</td><td>0.0</td><td>0.0</td><td>&quot;TWK&quot;</td></tr><tr><td>1</td><td>2023-03-04</td><td>9</td><td>2023</td><td>1</td><td>2</td><td>0</td><td>0</td><td>0.0</td><td>0.0</td><td>0.0</td><td>&quot;TWK&quot;</td></tr><tr><td>&hellip;</td><td>&hellip;</td><td>&hellip;</td><td>&hellip;</td><td>&hellip;</td><td>&hellip;</td><td>&hellip;</td><td>&hellip;</td><td>&hellip;</td><td>&hellip;</td><td>&hellip;</td><td>&hellip;</td></tr><tr><td>274877934140</td><td>2023-06-03</td><td>22</td><td>2023</td><td>31</td><td>49</td><td>0</td><td>0</td><td>0.0</td><td>0.0</td><td>0.0</td><td>&quot;TWK&quot;</td></tr><tr><td>274877934141</td><td>2023-06-03</td><td>23</td><td>2023</td><td>1</td><td>2</td><td>0</td><td>0</td><td>0.0</td><td>0.0</td><td>0.0</td><td>&quot;TWK&quot;</td></tr><tr><td>274877934142</td><td>2023-05-27</td><td>21</td><td>2023</td><td>1</td><td>3</td><td>0</td><td>0</td><td>0.0</td><td>0.0</td><td>0.0</td><td>&quot;TWK&quot;</td></tr><tr><td>274877934143</td><td>2023-05-13</td><td>20</td><td>2023</td><td>8</td><td>13</td><td>0</td><td>0</td><td>0.0</td><td>0.0</td><td>0.0</td><td>&quot;TWK&quot;</td></tr><tr><td>274877934144</td><td>2023-04-29</td><td>18</td><td>2023</td><td>7</td><td>8</td><td>0</td><td>0</td><td>0.0</td><td>0.0</td><td>0.0</td><td>&quot;TWK&quot;</td></tr></tbody></table></div>"
     },
     "execution_count": 10,
     "metadata": {},
     "output_type": "execute_result"
    }
   ],
   "source": [
    "data.sort(\"ID\", \"start_date_of_week\", \"week\").collect()"
   ],
   "metadata": {
    "collapsed": false,
    "ExecuteTime": {
     "end_time": "2024-03-06T21:11:30.218420569Z",
     "start_time": "2024-03-06T21:11:27.105510931Z"
    }
   },
   "id": "5b446f46dd20bbb0",
   "execution_count": 10
  },
  {
   "cell_type": "code",
   "outputs": [
    {
     "data": {
      "text/plain": "shape: (4_010_637, 5)\n┌──────────────┬──────┬────────────────────┬───────────┬─────────┐\n│ ID           ┆ week ┆ start_date_of_week ┆ date_diff ┆ churned │\n│ ---          ┆ ---  ┆ ---                ┆ ---       ┆ ---     │\n│ i64          ┆ i32  ┆ date               ┆ i64       ┆ bool    │\n╞══════════════╪══════╪════════════════════╪═══════════╪═════════╡\n│ 1            ┆ 4    ┆ 2023-01-21         ┆ 0         ┆ false   │\n│ 1            ┆ 5    ┆ 2023-02-04         ┆ 14        ┆ false   │\n│ 1            ┆ 6    ┆ 2023-02-11         ┆ 7         ┆ false   │\n│ 1            ┆ 8    ┆ 2023-02-25         ┆ 0         ┆ false   │\n│ 1            ┆ 9    ┆ 2023-03-04         ┆ 7         ┆ false   │\n│ …            ┆ …    ┆ …                  ┆ …         ┆ …       │\n│ 274877934140 ┆ 22   ┆ 2023-06-03         ┆ 0         ┆ false   │\n│ 274877934141 ┆ 23   ┆ 2023-06-03         ┆ 0         ┆ false   │\n│ 274877934142 ┆ 21   ┆ 2023-05-27         ┆ 0         ┆ false   │\n│ 274877934143 ┆ 20   ┆ 2023-05-13         ┆ 0         ┆ false   │\n│ 274877934144 ┆ 18   ┆ 2023-04-29         ┆ 0         ┆ false   │\n└──────────────┴──────┴────────────────────┴───────────┴─────────┘",
      "text/html": "<div><style>\n.dataframe > thead > tr,\n.dataframe > tbody > tr {\n  text-align: right;\n  white-space: pre-wrap;\n}\n</style>\n<small>shape: (4_010_637, 5)</small><table border=\"1\" class=\"dataframe\"><thead><tr><th>ID</th><th>week</th><th>start_date_of_week</th><th>date_diff</th><th>churned</th></tr><tr><td>i64</td><td>i32</td><td>date</td><td>i64</td><td>bool</td></tr></thead><tbody><tr><td>1</td><td>4</td><td>2023-01-21</td><td>0</td><td>false</td></tr><tr><td>1</td><td>5</td><td>2023-02-04</td><td>14</td><td>false</td></tr><tr><td>1</td><td>6</td><td>2023-02-11</td><td>7</td><td>false</td></tr><tr><td>1</td><td>8</td><td>2023-02-25</td><td>0</td><td>false</td></tr><tr><td>1</td><td>9</td><td>2023-03-04</td><td>7</td><td>false</td></tr><tr><td>&hellip;</td><td>&hellip;</td><td>&hellip;</td><td>&hellip;</td><td>&hellip;</td></tr><tr><td>274877934140</td><td>22</td><td>2023-06-03</td><td>0</td><td>false</td></tr><tr><td>274877934141</td><td>23</td><td>2023-06-03</td><td>0</td><td>false</td></tr><tr><td>274877934142</td><td>21</td><td>2023-05-27</td><td>0</td><td>false</td></tr><tr><td>274877934143</td><td>20</td><td>2023-05-13</td><td>0</td><td>false</td></tr><tr><td>274877934144</td><td>18</td><td>2023-04-29</td><td>0</td><td>false</td></tr></tbody></table></div>"
     },
     "execution_count": 32,
     "metadata": {},
     "output_type": "execute_result"
    }
   ],
   "source": [
    "churned: pl.LazyFrame = data.with_columns(pl.col(\"week\").cast(pl.Int32)).sort(\"ID\", \"week\").rolling(by=\"ID\", index_column=\"week\", period=\"1i\", closed=\"both\").agg(\n",
    "    pl.col(\"start_date_of_week\").last(),\n",
    "    (pl.col(\"start_date_of_week\").last() - pl.col(\"start_date_of_week\").first()).dt.total_days().alias(\"date_diff\")\n",
    ").with_columns(\n",
    "    pl.when(pl.col(\"date_diff\") > 14).then(pl.lit(True)).otherwise(pl.lit(False)).alias(\"churned\")\n",
    ")\n",
    "churned.collect() # filter(pl.col(\"equal\") == False)"
   ],
   "metadata": {
    "collapsed": false,
    "ExecuteTime": {
     "end_time": "2024-03-06T21:27:10.126472385Z",
     "start_time": "2024-03-06T21:27:07.199512661Z"
    }
   },
   "id": "e0f8d47aca6a771",
   "execution_count": 32
  },
  {
   "cell_type": "code",
   "outputs": [
    {
     "data": {
      "text/plain": "shape: (4_010_637, 14)\n┌──────────────┬────────────────┬──────┬──────┬───┬───────────────┬──────────┬───────────┬─────────┐\n│ ID           ┆ start_date_of_ ┆ week ┆ year ┆ … ┆ amount_lots_w ┆ platform ┆ date_diff ┆ churned │\n│ ---          ┆ week           ┆ ---  ┆ ---  ┆   ┆ on            ┆ ---      ┆ ---       ┆ ---     │\n│ i64          ┆ ---            ┆ i32  ┆ u16  ┆   ┆ ---           ┆ cat      ┆ i64       ┆ bool    │\n│              ┆ date           ┆      ┆      ┆   ┆ f32           ┆          ┆           ┆         │\n╞══════════════╪════════════════╪══════╪══════╪═══╪═══════════════╪══════════╪═══════════╪═════════╡\n│ 1            ┆ 2023-03-04     ┆ 9    ┆ 2023 ┆ … ┆ 0.0           ┆ TWK      ┆ 7         ┆ false   │\n│ 1            ┆ 2023-05-06     ┆ 17   ┆ 2023 ┆ … ┆ 0.0           ┆ TWK      ┆ 14        ┆ false   │\n│ 1            ┆ 2023-06-24     ┆ 25   ┆ 2023 ┆ … ┆ 0.0           ┆ TWK      ┆ 7         ┆ false   │\n│ 1            ┆ 2023-09-09     ┆ 36   ┆ 2023 ┆ … ┆ 0.0           ┆ TWK      ┆ 7         ┆ false   │\n│ 2            ┆ 2023-03-04     ┆ 9    ┆ 2023 ┆ … ┆ 0.0           ┆ TWK      ┆ 7         ┆ false   │\n│ …            ┆ …              ┆ …    ┆ …    ┆ … ┆ …             ┆ …        ┆ …         ┆ …       │\n│ 111669156046 ┆ 2023-12-16     ┆ 51   ┆ 2023 ┆ … ┆ 0.0           ┆ TWK      ┆ 0         ┆ false   │\n│ 180388647185 ┆ 2023-12-16     ┆ 51   ┆ 2023 ┆ … ┆ 1.0           ┆ TWK      ┆ 0         ┆ false   │\n│ 34359741849  ┆ 2023-12-16     ┆ 51   ┆ 2023 ┆ … ┆ 1.0           ┆ TWK      ┆ 0         ┆ false   │\n│ 8589953568   ┆ 2023-12-16     ┆ 51   ┆ 2023 ┆ … ┆ 0.0           ┆ BVA      ┆ 0         ┆ false   │\n│ 120259090620 ┆ 2023-12-16     ┆ 51   ┆ 2023 ┆ … ┆ 0.0           ┆ TWK      ┆ 7         ┆ false   │\n└──────────────┴────────────────┴──────┴──────┴───┴───────────────┴──────────┴───────────┴─────────┘",
      "text/html": "<div><style>\n.dataframe > thead > tr,\n.dataframe > tbody > tr {\n  text-align: right;\n  white-space: pre-wrap;\n}\n</style>\n<small>shape: (4_010_637, 14)</small><table border=\"1\" class=\"dataframe\"><thead><tr><th>ID</th><th>start_date_of_week</th><th>week</th><th>year</th><th>unique_lots_viewed</th><th>amount_views</th><th>bidded_on_amount_lots</th><th>bids_places</th><th>total_bidded</th><th>money_spend</th><th>amount_lots_won</th><th>platform</th><th>date_diff</th><th>churned</th></tr><tr><td>i64</td><td>date</td><td>i32</td><td>u16</td><td>i32</td><td>i32</td><td>i32</td><td>i32</td><td>f32</td><td>f32</td><td>f32</td><td>cat</td><td>i64</td><td>bool</td></tr></thead><tbody><tr><td>1</td><td>2023-03-04</td><td>9</td><td>2023</td><td>1</td><td>2</td><td>0</td><td>0</td><td>0.0</td><td>0.0</td><td>0.0</td><td>&quot;TWK&quot;</td><td>7</td><td>false</td></tr><tr><td>1</td><td>2023-05-06</td><td>17</td><td>2023</td><td>2</td><td>2</td><td>0</td><td>0</td><td>0.0</td><td>0.0</td><td>0.0</td><td>&quot;TWK&quot;</td><td>14</td><td>false</td></tr><tr><td>1</td><td>2023-06-24</td><td>25</td><td>2023</td><td>15</td><td>35</td><td>0</td><td>0</td><td>0.0</td><td>0.0</td><td>0.0</td><td>&quot;TWK&quot;</td><td>7</td><td>false</td></tr><tr><td>1</td><td>2023-09-09</td><td>36</td><td>2023</td><td>3</td><td>4</td><td>0</td><td>0</td><td>0.0</td><td>0.0</td><td>0.0</td><td>&quot;TWK&quot;</td><td>7</td><td>false</td></tr><tr><td>2</td><td>2023-03-04</td><td>9</td><td>2023</td><td>9</td><td>11</td><td>0</td><td>0</td><td>0.0</td><td>0.0</td><td>0.0</td><td>&quot;TWK&quot;</td><td>7</td><td>false</td></tr><tr><td>&hellip;</td><td>&hellip;</td><td>&hellip;</td><td>&hellip;</td><td>&hellip;</td><td>&hellip;</td><td>&hellip;</td><td>&hellip;</td><td>&hellip;</td><td>&hellip;</td><td>&hellip;</td><td>&hellip;</td><td>&hellip;</td><td>&hellip;</td></tr><tr><td>111669156046</td><td>2023-12-16</td><td>51</td><td>2023</td><td>1</td><td>1</td><td>0</td><td>0</td><td>0.0</td><td>0.0</td><td>0.0</td><td>&quot;TWK&quot;</td><td>0</td><td>false</td></tr><tr><td>180388647185</td><td>2023-12-16</td><td>51</td><td>2023</td><td>2</td><td>2</td><td>2</td><td>6</td><td>27580.0</td><td>31610.0</td><td>1.0</td><td>&quot;TWK&quot;</td><td>0</td><td>false</td></tr><tr><td>34359741849</td><td>2023-12-16</td><td>51</td><td>2023</td><td>1</td><td>1</td><td>1</td><td>2</td><td>120.0</td><td>140.0</td><td>1.0</td><td>&quot;TWK&quot;</td><td>0</td><td>false</td></tr><tr><td>8589953568</td><td>2023-12-16</td><td>51</td><td>2023</td><td>1</td><td>1</td><td>0</td><td>0</td><td>0.0</td><td>0.0</td><td>0.0</td><td>&quot;BVA&quot;</td><td>0</td><td>false</td></tr><tr><td>120259090620</td><td>2023-12-16</td><td>51</td><td>2023</td><td>2</td><td>2</td><td>0</td><td>0</td><td>0.0</td><td>0.0</td><td>0.0</td><td>&quot;TWK&quot;</td><td>7</td><td>false</td></tr></tbody></table></div>"
     },
     "execution_count": 38,
     "metadata": {},
     "output_type": "execute_result"
    }
   ],
   "source": [
    "data = data.with_columns(pl.col(\"week\").cast(pl.Int32)).join(churned, how=\"left\", on=[\"ID\", \"start_date_of_week\", \"week\"]).filter(pl.col(\"churned\").is_not_null())"
   ],
   "metadata": {
    "collapsed": false,
    "ExecuteTime": {
     "end_time": "2024-03-06T21:30:00.312164884Z",
     "start_time": "2024-03-06T21:29:55.832784912Z"
    }
   },
   "id": "52508598425cefcb",
   "execution_count": 38
  }
 ],
 "metadata": {
  "kernelspec": {
   "display_name": "Python 3",
   "language": "python",
   "name": "python3"
  },
  "language_info": {
   "codemirror_mode": {
    "name": "ipython",
    "version": 2
   },
   "file_extension": ".py",
   "mimetype": "text/x-python",
   "name": "python",
   "nbconvert_exporter": "python",
   "pygments_lexer": "ipython2",
   "version": "2.7.6"
  }
 },
 "nbformat": 4,
 "nbformat_minor": 5
}
